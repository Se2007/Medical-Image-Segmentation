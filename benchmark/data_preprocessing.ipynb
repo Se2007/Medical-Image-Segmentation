{
 "cells": [
  {
   "cell_type": "markdown",
   "metadata": {},
   "source": [
    "Imports"
   ]
  },
  {
   "cell_type": "code",
   "execution_count": 7,
   "metadata": {},
   "outputs": [],
   "source": [
    "import torch \n",
    "import pandas as pd \n",
    "import numpy as np\n",
    "from PIL import Image\n",
    "import math\n",
    "import glob"
   ]
  },
  {
   "cell_type": "code",
   "execution_count": 11,
   "metadata": {},
   "outputs": [],
   "source": [
    "mask_file = \"./UW_madison_dataset/train.csv\"\n",
    "df = pd.read_csv(mask_file)"
   ]
  },
  {
   "cell_type": "code",
   "execution_count": 12,
   "metadata": {},
   "outputs": [
    {
     "data": {
      "text/html": [
       "<div>\n",
       "<style scoped>\n",
       "    .dataframe tbody tr th:only-of-type {\n",
       "        vertical-align: middle;\n",
       "    }\n",
       "\n",
       "    .dataframe tbody tr th {\n",
       "        vertical-align: top;\n",
       "    }\n",
       "\n",
       "    .dataframe thead th {\n",
       "        text-align: right;\n",
       "    }\n",
       "</style>\n",
       "<table border=\"1\" class=\"dataframe\">\n",
       "  <thead>\n",
       "    <tr style=\"text-align: right;\">\n",
       "      <th></th>\n",
       "      <th>id</th>\n",
       "      <th>class</th>\n",
       "      <th>segmentation</th>\n",
       "    </tr>\n",
       "  </thead>\n",
       "  <tbody>\n",
       "    <tr>\n",
       "      <th>0</th>\n",
       "      <td>case123_day20_slice_0001</td>\n",
       "      <td>large_bowel</td>\n",
       "      <td>NaN</td>\n",
       "    </tr>\n",
       "    <tr>\n",
       "      <th>1</th>\n",
       "      <td>case123_day20_slice_0001</td>\n",
       "      <td>small_bowel</td>\n",
       "      <td>NaN</td>\n",
       "    </tr>\n",
       "    <tr>\n",
       "      <th>2</th>\n",
       "      <td>case123_day20_slice_0001</td>\n",
       "      <td>stomach</td>\n",
       "      <td>NaN</td>\n",
       "    </tr>\n",
       "    <tr>\n",
       "      <th>3</th>\n",
       "      <td>case123_day20_slice_0002</td>\n",
       "      <td>large_bowel</td>\n",
       "      <td>NaN</td>\n",
       "    </tr>\n",
       "    <tr>\n",
       "      <th>4</th>\n",
       "      <td>case123_day20_slice_0002</td>\n",
       "      <td>small_bowel</td>\n",
       "      <td>NaN</td>\n",
       "    </tr>\n",
       "  </tbody>\n",
       "</table>\n",
       "</div>"
      ],
      "text/plain": [
       "                         id        class segmentation\n",
       "0  case123_day20_slice_0001  large_bowel          NaN\n",
       "1  case123_day20_slice_0001  small_bowel          NaN\n",
       "2  case123_day20_slice_0001      stomach          NaN\n",
       "3  case123_day20_slice_0002  large_bowel          NaN\n",
       "4  case123_day20_slice_0002  small_bowel          NaN"
      ]
     },
     "metadata": {},
     "output_type": "display_data"
    },
    {
     "data": {
      "text/plain": [
       "115488"
      ]
     },
     "execution_count": 12,
     "metadata": {},
     "output_type": "execute_result"
    }
   ],
   "source": [
    "display(df.head())\n",
    "len(df)"
   ]
  },
  {
   "cell_type": "code",
   "execution_count": 13,
   "metadata": {},
   "outputs": [
    {
     "data": {
      "text/html": [
       "<div>\n",
       "<style scoped>\n",
       "    .dataframe tbody tr th:only-of-type {\n",
       "        vertical-align: middle;\n",
       "    }\n",
       "\n",
       "    .dataframe tbody tr th {\n",
       "        vertical-align: top;\n",
       "    }\n",
       "\n",
       "    .dataframe thead th {\n",
       "        text-align: right;\n",
       "    }\n",
       "</style>\n",
       "<table border=\"1\" class=\"dataframe\">\n",
       "  <thead>\n",
       "    <tr style=\"text-align: right;\">\n",
       "      <th></th>\n",
       "      <th>id</th>\n",
       "      <th>class</th>\n",
       "      <th>segmentation</th>\n",
       "    </tr>\n",
       "  </thead>\n",
       "  <tbody>\n",
       "    <tr>\n",
       "      <th>0</th>\n",
       "      <td>case123_day20_slice_0001</td>\n",
       "      <td>large_bowel</td>\n",
       "      <td>NaN</td>\n",
       "    </tr>\n",
       "    <tr>\n",
       "      <th>1</th>\n",
       "      <td>case123_day20_slice_0001</td>\n",
       "      <td>small_bowel</td>\n",
       "      <td>NaN</td>\n",
       "    </tr>\n",
       "    <tr>\n",
       "      <th>2</th>\n",
       "      <td>case123_day20_slice_0001</td>\n",
       "      <td>stomach</td>\n",
       "      <td>NaN</td>\n",
       "    </tr>\n",
       "  </tbody>\n",
       "</table>\n",
       "</div>"
      ],
      "text/plain": [
       "                         id        class segmentation\n",
       "0  case123_day20_slice_0001  large_bowel          NaN\n",
       "1  case123_day20_slice_0001  small_bowel          NaN\n",
       "2  case123_day20_slice_0001      stomach          NaN"
      ]
     },
     "metadata": {},
     "output_type": "display_data"
    },
    {
     "data": {
      "text/html": [
       "<div>\n",
       "<style scoped>\n",
       "    .dataframe tbody tr th:only-of-type {\n",
       "        vertical-align: middle;\n",
       "    }\n",
       "\n",
       "    .dataframe tbody tr th {\n",
       "        vertical-align: top;\n",
       "    }\n",
       "\n",
       "    .dataframe thead th {\n",
       "        text-align: right;\n",
       "    }\n",
       "</style>\n",
       "<table border=\"1\" class=\"dataframe\">\n",
       "  <thead>\n",
       "    <tr style=\"text-align: right;\">\n",
       "      <th></th>\n",
       "      <th>id</th>\n",
       "      <th>class</th>\n",
       "      <th>segmentation</th>\n",
       "    </tr>\n",
       "  </thead>\n",
       "  <tbody>\n",
       "    <tr>\n",
       "      <th>0</th>\n",
       "      <td>case123_day20_slice_0001</td>\n",
       "      <td>large_bowel</td>\n",
       "      <td>NaN</td>\n",
       "    </tr>\n",
       "  </tbody>\n",
       "</table>\n",
       "</div>"
      ],
      "text/plain": [
       "                         id        class segmentation\n",
       "0  case123_day20_slice_0001  large_bowel          NaN"
      ]
     },
     "metadata": {},
     "output_type": "display_data"
    }
   ],
   "source": [
    "display(df[df['id'] == 'case123_day20_slice_0001'])\n",
    "display(df[(df['id'] == 'case123_day20_slice_0001') & (df['class'] == 'large_bowel')])"
   ]
  },
  {
   "cell_type": "code",
   "execution_count": 14,
   "metadata": {},
   "outputs": [
    {
     "data": {
      "text/plain": [
       "(['case123_day20_slice_0001',\n",
       "  'case123_day20_slice_0001',\n",
       "  'case123_day20_slice_0001',\n",
       "  'case123_day20_slice_0002',\n",
       "  'case123_day20_slice_0002',\n",
       "  'case123_day20_slice_0002',\n",
       "  'case123_day20_slice_0003',\n",
       "  'case123_day20_slice_0003',\n",
       "  'case123_day20_slice_0003',\n",
       "  'case123_day20_slice_0004'],\n",
       " ['case123_day20_slice_0001',\n",
       "  'case123_day20_slice_0002',\n",
       "  'case123_day20_slice_0003',\n",
       "  'case123_day20_slice_0004',\n",
       "  'case123_day20_slice_0005',\n",
       "  'case123_day20_slice_0006',\n",
       "  'case123_day20_slice_0007',\n",
       "  'case123_day20_slice_0008',\n",
       "  'case123_day20_slice_0009',\n",
       "  'case123_day20_slice_0010'])"
      ]
     },
     "execution_count": 14,
     "metadata": {},
     "output_type": "execute_result"
    }
   ],
   "source": [
    "list(df['id'])[:10], list(df['id'])[::3][:10]"
   ]
  },
  {
   "cell_type": "code",
   "execution_count": 15,
   "metadata": {},
   "outputs": [],
   "source": [
    "ids = list(df['id'])[::3]\n",
    "large_bowel = list(df[df['class'] == 'large_bowel']['segmentation'])\n",
    "small_bowel = list(df[df['class'] == 'small_bowel']['segmentation'])\n",
    "stomach = list(df[df['class'] == 'stomach']['segmentation'])"
   ]
  },
  {
   "cell_type": "code",
   "execution_count": 16,
   "metadata": {},
   "outputs": [],
   "source": [
    "data = {\n",
    "    'id': ids,\n",
    "    'large_bowel': large_bowel,\n",
    "    'small_bowel': small_bowel,\n",
    "    'stomach' : stomach\n",
    "}\n",
    "\n",
    "new_df = pd.DataFrame(data)"
   ]
  },
  {
   "cell_type": "markdown",
   "metadata": {},
   "source": [
    "Remove Nan"
   ]
  },
  {
   "cell_type": "code",
   "execution_count": 17,
   "metadata": {},
   "outputs": [],
   "source": [
    "have_mask = []\n",
    "nan_mask = []\n",
    "\n",
    "for i in range(len(new_df)):\n",
    "    if pd.isna(new_df.loc[i]['large_bowel']) and pd.isna(new_df.loc[i]['small_bowel']) and pd.isna(new_df.loc[i]['stomach']):\n",
    "        nan_mask.append(i)\n",
    "    else:\n",
    "        have_mask.append(i)"
   ]
  },
  {
   "cell_type": "code",
   "execution_count": 18,
   "metadata": {},
   "outputs": [
    {
     "data": {
      "text/plain": [
       "(21906, 16590)"
      ]
     },
     "execution_count": 18,
     "metadata": {},
     "output_type": "execute_result"
    }
   ],
   "source": [
    "len(nan_mask), len(have_mask)"
   ]
  },
  {
   "cell_type": "code",
   "execution_count": 19,
   "metadata": {},
   "outputs": [
    {
     "data": {
      "text/plain": [
       "id                                      case123_day20_slice_0076\n",
       "large_bowel    22525 6 22789 9 23055 10 23320 11 23586 11 238...\n",
       "small_bowel                                                  NaN\n",
       "stomach        12120 12 12384 16 12648 19 12913 22 13177 25 1...\n",
       "Name: 75, dtype: object"
      ]
     },
     "execution_count": 19,
     "metadata": {},
     "output_type": "execute_result"
    }
   ],
   "source": [
    "new_df.loc[have_mask[11]]"
   ]
  },
  {
   "cell_type": "code",
   "execution_count": 22,
   "metadata": {},
   "outputs": [],
   "source": [
    "new_df.drop(nan_mask, inplace=True)"
   ]
  },
  {
   "cell_type": "code",
   "execution_count": 23,
   "metadata": {},
   "outputs": [
    {
     "data": {
      "text/html": [
       "<div>\n",
       "<style scoped>\n",
       "    .dataframe tbody tr th:only-of-type {\n",
       "        vertical-align: middle;\n",
       "    }\n",
       "\n",
       "    .dataframe tbody tr th {\n",
       "        vertical-align: top;\n",
       "    }\n",
       "\n",
       "    .dataframe thead th {\n",
       "        text-align: right;\n",
       "    }\n",
       "</style>\n",
       "<table border=\"1\" class=\"dataframe\">\n",
       "  <thead>\n",
       "    <tr style=\"text-align: right;\">\n",
       "      <th></th>\n",
       "      <th>id</th>\n",
       "      <th>large_bowel</th>\n",
       "      <th>small_bowel</th>\n",
       "      <th>stomach</th>\n",
       "    </tr>\n",
       "  </thead>\n",
       "  <tbody>\n",
       "    <tr>\n",
       "      <th>64</th>\n",
       "      <td>case123_day20_slice_0065</td>\n",
       "      <td>NaN</td>\n",
       "      <td>NaN</td>\n",
       "      <td>28094 3 28358 7 28623 9 28889 9 29155 9 29421 ...</td>\n",
       "    </tr>\n",
       "    <tr>\n",
       "      <th>65</th>\n",
       "      <td>case123_day20_slice_0066</td>\n",
       "      <td>NaN</td>\n",
       "      <td>NaN</td>\n",
       "      <td>27561 8 27825 11 28090 13 28355 14 28620 15 28...</td>\n",
       "    </tr>\n",
       "    <tr>\n",
       "      <th>66</th>\n",
       "      <td>case123_day20_slice_0067</td>\n",
       "      <td>NaN</td>\n",
       "      <td>NaN</td>\n",
       "      <td>15323 4 15587 8 15852 10 16117 11 16383 12 166...</td>\n",
       "    </tr>\n",
       "    <tr>\n",
       "      <th>67</th>\n",
       "      <td>case123_day20_slice_0068</td>\n",
       "      <td>NaN</td>\n",
       "      <td>NaN</td>\n",
       "      <td>14792 5 15056 9 15321 11 15587 11 15852 13 161...</td>\n",
       "    </tr>\n",
       "    <tr>\n",
       "      <th>68</th>\n",
       "      <td>case123_day20_slice_0069</td>\n",
       "      <td>NaN</td>\n",
       "      <td>NaN</td>\n",
       "      <td>14526 6 14789 12 15054 14 15319 16 15584 17 15...</td>\n",
       "    </tr>\n",
       "    <tr>\n",
       "      <th>...</th>\n",
       "      <td>...</td>\n",
       "      <td>...</td>\n",
       "      <td>...</td>\n",
       "      <td>...</td>\n",
       "    </tr>\n",
       "    <tr>\n",
       "      <th>38484</th>\n",
       "      <td>case30_day0_slice_0133</td>\n",
       "      <td>17695 8 17957 23 18213 39 18477 45 18741 52 19...</td>\n",
       "      <td>23337 15 23601 20 23866 23 24131 25 24396 27 2...</td>\n",
       "      <td>NaN</td>\n",
       "    </tr>\n",
       "    <tr>\n",
       "      <th>38485</th>\n",
       "      <td>case30_day0_slice_0134</td>\n",
       "      <td>17694 5 17957 10 18215 2 18219 17 18478 32 187...</td>\n",
       "      <td>23336 13 23601 16 23867 18 24132 20 24398 21 2...</td>\n",
       "      <td>NaN</td>\n",
       "    </tr>\n",
       "    <tr>\n",
       "      <th>38486</th>\n",
       "      <td>case30_day0_slice_0135</td>\n",
       "      <td>17957 1 18219 10 18482 16 18744 23 19008 43 19...</td>\n",
       "      <td>22540 1 22804 5 23069 7 23334 10 23600 11 2386...</td>\n",
       "      <td>NaN</td>\n",
       "    </tr>\n",
       "    <tr>\n",
       "      <th>38487</th>\n",
       "      <td>case30_day0_slice_0136</td>\n",
       "      <td>18746 7 19009 23 19038 7 19273 44 19537 49 198...</td>\n",
       "      <td>23079 1 23343 6 23608 9 23874 11 24139 13 2440...</td>\n",
       "      <td>NaN</td>\n",
       "    </tr>\n",
       "    <tr>\n",
       "      <th>38488</th>\n",
       "      <td>case30_day0_slice_0137</td>\n",
       "      <td>18746 2 19010 8 19040 3 19274 25 19302 12 1953...</td>\n",
       "      <td>21457 6 21722 10 21987 15 22252 18 22517 21 22...</td>\n",
       "      <td>NaN</td>\n",
       "    </tr>\n",
       "  </tbody>\n",
       "</table>\n",
       "<p>16590 rows × 4 columns</p>\n",
       "</div>"
      ],
      "text/plain": [
       "                             id  \\\n",
       "64     case123_day20_slice_0065   \n",
       "65     case123_day20_slice_0066   \n",
       "66     case123_day20_slice_0067   \n",
       "67     case123_day20_slice_0068   \n",
       "68     case123_day20_slice_0069   \n",
       "...                         ...   \n",
       "38484    case30_day0_slice_0133   \n",
       "38485    case30_day0_slice_0134   \n",
       "38486    case30_day0_slice_0135   \n",
       "38487    case30_day0_slice_0136   \n",
       "38488    case30_day0_slice_0137   \n",
       "\n",
       "                                             large_bowel  \\\n",
       "64                                                   NaN   \n",
       "65                                                   NaN   \n",
       "66                                                   NaN   \n",
       "67                                                   NaN   \n",
       "68                                                   NaN   \n",
       "...                                                  ...   \n",
       "38484  17695 8 17957 23 18213 39 18477 45 18741 52 19...   \n",
       "38485  17694 5 17957 10 18215 2 18219 17 18478 32 187...   \n",
       "38486  17957 1 18219 10 18482 16 18744 23 19008 43 19...   \n",
       "38487  18746 7 19009 23 19038 7 19273 44 19537 49 198...   \n",
       "38488  18746 2 19010 8 19040 3 19274 25 19302 12 1953...   \n",
       "\n",
       "                                             small_bowel  \\\n",
       "64                                                   NaN   \n",
       "65                                                   NaN   \n",
       "66                                                   NaN   \n",
       "67                                                   NaN   \n",
       "68                                                   NaN   \n",
       "...                                                  ...   \n",
       "38484  23337 15 23601 20 23866 23 24131 25 24396 27 2...   \n",
       "38485  23336 13 23601 16 23867 18 24132 20 24398 21 2...   \n",
       "38486  22540 1 22804 5 23069 7 23334 10 23600 11 2386...   \n",
       "38487  23079 1 23343 6 23608 9 23874 11 24139 13 2440...   \n",
       "38488  21457 6 21722 10 21987 15 22252 18 22517 21 22...   \n",
       "\n",
       "                                                 stomach  \n",
       "64     28094 3 28358 7 28623 9 28889 9 29155 9 29421 ...  \n",
       "65     27561 8 27825 11 28090 13 28355 14 28620 15 28...  \n",
       "66     15323 4 15587 8 15852 10 16117 11 16383 12 166...  \n",
       "67     14792 5 15056 9 15321 11 15587 11 15852 13 161...  \n",
       "68     14526 6 14789 12 15054 14 15319 16 15584 17 15...  \n",
       "...                                                  ...  \n",
       "38484                                                NaN  \n",
       "38485                                                NaN  \n",
       "38486                                                NaN  \n",
       "38487                                                NaN  \n",
       "38488                                                NaN  \n",
       "\n",
       "[16590 rows x 4 columns]"
      ]
     },
     "execution_count": 23,
     "metadata": {},
     "output_type": "execute_result"
    }
   ],
   "source": [
    "new_df"
   ]
  },
  {
   "cell_type": "code",
   "execution_count": 116,
   "metadata": {},
   "outputs": [
    {
     "data": {
      "image/png": "[encoded data removed]",
      "text/plain": [
       "<PIL.PngImagePlugin.PngImageFile image mode=I size=266x266>"
      ]
     },
     "execution_count": 116,
     "metadata": {},
     "output_type": "execute_result"
    }
   ],
   "source": [
    "image_path = './UW_madison_dataset/train/case30/case30_day0/scans/slice_0136*.png'\n",
    "Image.open(glob.glob(image_path)[0])"
   ]
  },
  {
   "cell_type": "code",
   "execution_count": 118,
   "metadata": {},
   "outputs": [
    {
     "data": {
      "text/plain": [
       "['case123', 'day20', 'slice', '0001']"
      ]
     },
     "execution_count": 118,
     "metadata": {},
     "output_type": "execute_result"
    }
   ],
   "source": [
    "'case123_day20_slice_0001'.split('_')"
   ]
  },
  {
   "cell_type": "markdown",
   "metadata": {},
   "source": [
    "Add Address"
   ]
  },
  {
   "cell_type": "code",
   "execution_count": 136,
   "metadata": {},
   "outputs": [],
   "source": [
    "adders = []\n",
    "for i in list(new_df['id']):\n",
    "    split = i.split('_')\n",
    "    adder = glob.glob(f'./UW_madison_dataset/train/{split[0]}/{split[0]}_{split[1]}/scans/{split[2]}_{split[3]}*.png')[0]\n",
    "    adders.append(adder)"
   ]
  },
  {
   "cell_type": "code",
   "execution_count": 138,
   "metadata": {},
   "outputs": [
    {
     "data": {
      "image/png": "[encoded data removed]",
      "text/plain": [
       "<PIL.PngImagePlugin.PngImageFile image mode=I size=266x266>"
      ]
     },
     "execution_count": 138,
     "metadata": {},
     "output_type": "execute_result"
    }
   ],
   "source": [
    "Image.open(adders[0])"
   ]
  },
  {
   "cell_type": "code",
   "execution_count": 139,
   "metadata": {},
   "outputs": [],
   "source": [
    "new_df['Address'] = adders"
   ]
  },
  {
   "cell_type": "code",
   "execution_count": 68,
   "metadata": {},
   "outputs": [],
   "source": [
    "mask_file = \"./UW_madison_dataset/mask.csv\"\n",
    "mask_df = pd.read_csv(mask_file)"
   ]
  },
  {
   "cell_type": "code",
   "execution_count": 85,
   "metadata": {},
   "outputs": [
    {
     "data": {
      "text/html": [
       "<div>\n",
       "<style scoped>\n",
       "    .dataframe tbody tr th:only-of-type {\n",
       "        vertical-align: middle;\n",
       "    }\n",
       "\n",
       "    .dataframe tbody tr th {\n",
       "        vertical-align: top;\n",
       "    }\n",
       "\n",
       "    .dataframe thead th {\n",
       "        text-align: right;\n",
       "    }\n",
       "</style>\n",
       "<table border=\"1\" class=\"dataframe\">\n",
       "  <thead>\n",
       "    <tr style=\"text-align: right;\">\n",
       "      <th></th>\n",
       "      <th>id</th>\n",
       "      <th>large_bowel</th>\n",
       "      <th>small_bowel</th>\n",
       "      <th>stomach</th>\n",
       "      <th>Address</th>\n",
       "      <th>case</th>\n",
       "      <th>day</th>\n",
       "      <th>slice</th>\n",
       "      <th>weidth</th>\n",
       "      <th>height</th>\n",
       "      <th>counts</th>\n",
       "    </tr>\n",
       "  </thead>\n",
       "  <tbody>\n",
       "    <tr>\n",
       "      <th>0</th>\n",
       "      <td>case123_day20_slice_0065</td>\n",
       "      <td>NaN</td>\n",
       "      <td>NaN</td>\n",
       "      <td>28094 3 28358 7 28623 9 28889 9 29155 9 29421 ...</td>\n",
       "      <td>./UW_madison_dataset/train/case123/case123_day...</td>\n",
       "      <td>123</td>\n",
       "      <td>20</td>\n",
       "      <td>0065</td>\n",
       "      <td>266</td>\n",
       "      <td>266</td>\n",
       "      <td>1</td>\n",
       "    </tr>\n",
       "    <tr>\n",
       "      <th>1</th>\n",
       "      <td>case123_day20_slice_0066</td>\n",
       "      <td>NaN</td>\n",
       "      <td>NaN</td>\n",
       "      <td>27561 8 27825 11 28090 13 28355 14 28620 15 28...</td>\n",
       "      <td>./UW_madison_dataset/train/case123/case123_day...</td>\n",
       "      <td>123</td>\n",
       "      <td>20</td>\n",
       "      <td>0066</td>\n",
       "      <td>266</td>\n",
       "      <td>266</td>\n",
       "      <td>1</td>\n",
       "    </tr>\n",
       "    <tr>\n",
       "      <th>2</th>\n",
       "      <td>case123_day20_slice_0067</td>\n",
       "      <td>NaN</td>\n",
       "      <td>NaN</td>\n",
       "      <td>15323 4 15587 8 15852 10 16117 11 16383 12 166...</td>\n",
       "      <td>./UW_madison_dataset/train/case123/case123_day...</td>\n",
       "      <td>123</td>\n",
       "      <td>20</td>\n",
       "      <td>0067</td>\n",
       "      <td>266</td>\n",
       "      <td>266</td>\n",
       "      <td>1</td>\n",
       "    </tr>\n",
       "    <tr>\n",
       "      <th>3</th>\n",
       "      <td>case123_day20_slice_0068</td>\n",
       "      <td>NaN</td>\n",
       "      <td>NaN</td>\n",
       "      <td>14792 5 15056 9 15321 11 15587 11 15852 13 161...</td>\n",
       "      <td>./UW_madison_dataset/train/case123/case123_day...</td>\n",
       "      <td>123</td>\n",
       "      <td>20</td>\n",
       "      <td>0068</td>\n",
       "      <td>266</td>\n",
       "      <td>266</td>\n",
       "      <td>1</td>\n",
       "    </tr>\n",
       "    <tr>\n",
       "      <th>4</th>\n",
       "      <td>case123_day20_slice_0069</td>\n",
       "      <td>NaN</td>\n",
       "      <td>NaN</td>\n",
       "      <td>14526 6 14789 12 15054 14 15319 16 15584 17 15...</td>\n",
       "      <td>./UW_madison_dataset/train/case123/case123_day...</td>\n",
       "      <td>123</td>\n",
       "      <td>20</td>\n",
       "      <td>0069</td>\n",
       "      <td>266</td>\n",
       "      <td>266</td>\n",
       "      <td>1</td>\n",
       "    </tr>\n",
       "  </tbody>\n",
       "</table>\n",
       "</div>"
      ],
      "text/plain": [
       "                         id large_bowel small_bowel  \\\n",
       "0  case123_day20_slice_0065         NaN         NaN   \n",
       "1  case123_day20_slice_0066         NaN         NaN   \n",
       "2  case123_day20_slice_0067         NaN         NaN   \n",
       "3  case123_day20_slice_0068         NaN         NaN   \n",
       "4  case123_day20_slice_0069         NaN         NaN   \n",
       "\n",
       "                                             stomach  \\\n",
       "0  28094 3 28358 7 28623 9 28889 9 29155 9 29421 ...   \n",
       "1  27561 8 27825 11 28090 13 28355 14 28620 15 28...   \n",
       "2  15323 4 15587 8 15852 10 16117 11 16383 12 166...   \n",
       "3  14792 5 15056 9 15321 11 15587 11 15852 13 161...   \n",
       "4  14526 6 14789 12 15054 14 15319 16 15584 17 15...   \n",
       "\n",
       "                                             Address case day slice  weidth  \\\n",
       "0  ./UW_madison_dataset/train/case123/case123_day...  123  20  0065     266   \n",
       "1  ./UW_madison_dataset/train/case123/case123_day...  123  20  0066     266   \n",
       "2  ./UW_madison_dataset/train/case123/case123_day...  123  20  0067     266   \n",
       "3  ./UW_madison_dataset/train/case123/case123_day...  123  20  0068     266   \n",
       "4  ./UW_madison_dataset/train/case123/case123_day...  123  20  0069     266   \n",
       "\n",
       "   height  counts  \n",
       "0     266       1  \n",
       "1     266       1  \n",
       "2     266       1  \n",
       "3     266       1  \n",
       "4     266       1  "
      ]
     },
     "metadata": {},
     "output_type": "display_data"
    },
    {
     "data": {
      "text/plain": [
       "(16590, 11)"
      ]
     },
     "execution_count": 85,
     "metadata": {},
     "output_type": "execute_result"
    }
   ],
   "source": [
    "display(mask_df.head())\n",
    "mask_df.shape"
   ]
  },
  {
   "cell_type": "markdown",
   "metadata": {},
   "source": [
    "Add --> Case | Day | Slice| Weidth, Height | Counts"
   ]
  },
  {
   "cell_type": "code",
   "execution_count": 84,
   "metadata": {},
   "outputs": [],
   "source": [
    "mask_df['case'] = mask_df['id'].apply(lambda x : x.split('_')[0].strip('case'))\n",
    "\n",
    "mask_df['day'] = mask_df['id'].apply(lambda x : x.split('_')[1].strip('day'))\n",
    "\n",
    "mask_df['slice'] = mask_df['id'].apply(lambda x : x.split('_')[3])\n",
    "\n",
    "mask_df['weidth'] = mask_df['Address'].apply(lambda x : int(x.rsplit('_', 4)[1]))\n",
    "\n",
    "mask_df['height'] = mask_df['Address'].apply(lambda x : int(x.rsplit('_', 4)[2]))\n",
    "\n",
    "mask_df['counts'] = np.sum(~mask_df.iloc[:, 1:4].isna(), axis=1).values"
   ]
  },
  {
   "cell_type": "code",
   "execution_count": 82,
   "metadata": {},
   "outputs": [
    {
     "data": {
      "text/html": [
       "<div>\n",
       "<style scoped>\n",
       "    .dataframe tbody tr th:only-of-type {\n",
       "        vertical-align: middle;\n",
       "    }\n",
       "\n",
       "    .dataframe tbody tr th {\n",
       "        vertical-align: top;\n",
       "    }\n",
       "\n",
       "    .dataframe thead th {\n",
       "        text-align: right;\n",
       "    }\n",
       "</style>\n",
       "<table border=\"1\" class=\"dataframe\">\n",
       "  <thead>\n",
       "    <tr style=\"text-align: right;\">\n",
       "      <th></th>\n",
       "      <th>large_bowel</th>\n",
       "      <th>small_bowel</th>\n",
       "      <th>stomach</th>\n",
       "    </tr>\n",
       "  </thead>\n",
       "  <tbody>\n",
       "    <tr>\n",
       "      <th>0</th>\n",
       "      <td>False</td>\n",
       "      <td>False</td>\n",
       "      <td>True</td>\n",
       "    </tr>\n",
       "    <tr>\n",
       "      <th>1</th>\n",
       "      <td>False</td>\n",
       "      <td>False</td>\n",
       "      <td>True</td>\n",
       "    </tr>\n",
       "    <tr>\n",
       "      <th>2</th>\n",
       "      <td>False</td>\n",
       "      <td>False</td>\n",
       "      <td>True</td>\n",
       "    </tr>\n",
       "    <tr>\n",
       "      <th>3</th>\n",
       "      <td>False</td>\n",
       "      <td>False</td>\n",
       "      <td>True</td>\n",
       "    </tr>\n",
       "    <tr>\n",
       "      <th>4</th>\n",
       "      <td>False</td>\n",
       "      <td>False</td>\n",
       "      <td>True</td>\n",
       "    </tr>\n",
       "    <tr>\n",
       "      <th>...</th>\n",
       "      <td>...</td>\n",
       "      <td>...</td>\n",
       "      <td>...</td>\n",
       "    </tr>\n",
       "    <tr>\n",
       "      <th>16585</th>\n",
       "      <td>True</td>\n",
       "      <td>True</td>\n",
       "      <td>False</td>\n",
       "    </tr>\n",
       "    <tr>\n",
       "      <th>16586</th>\n",
       "      <td>True</td>\n",
       "      <td>True</td>\n",
       "      <td>False</td>\n",
       "    </tr>\n",
       "    <tr>\n",
       "      <th>16587</th>\n",
       "      <td>True</td>\n",
       "      <td>True</td>\n",
       "      <td>False</td>\n",
       "    </tr>\n",
       "    <tr>\n",
       "      <th>16588</th>\n",
       "      <td>True</td>\n",
       "      <td>True</td>\n",
       "      <td>False</td>\n",
       "    </tr>\n",
       "    <tr>\n",
       "      <th>16589</th>\n",
       "      <td>True</td>\n",
       "      <td>True</td>\n",
       "      <td>False</td>\n",
       "    </tr>\n",
       "  </tbody>\n",
       "</table>\n",
       "<p>16590 rows × 3 columns</p>\n",
       "</div>"
      ],
      "text/plain": [
       "       large_bowel  small_bowel  stomach\n",
       "0            False        False     True\n",
       "1            False        False     True\n",
       "2            False        False     True\n",
       "3            False        False     True\n",
       "4            False        False     True\n",
       "...            ...          ...      ...\n",
       "16585         True         True    False\n",
       "16586         True         True    False\n",
       "16587         True         True    False\n",
       "16588         True         True    False\n",
       "16589         True         True    False\n",
       "\n",
       "[16590 rows x 3 columns]"
      ]
     },
     "execution_count": 82,
     "metadata": {},
     "output_type": "execute_result"
    }
   ],
   "source": [
    "~mask_df.iloc[:, 1:4].isna()"
   ]
  },
  {
   "cell_type": "code",
   "execution_count": 83,
   "metadata": {},
   "outputs": [
    {
     "data": {
      "text/plain": [
       "array([1, 1, 1, ..., 2, 2, 2], dtype=int64)"
      ]
     },
     "execution_count": 83,
     "metadata": {},
     "output_type": "execute_result"
    }
   ],
   "source": [
    "np.sum(~mask_df.iloc[:, 1:4].isna(), axis=1).values"
   ]
  },
  {
   "cell_type": "code",
   "execution_count": 90,
   "metadata": {},
   "outputs": [
    {
     "data": {
      "text/html": [
       "<div>\n",
       "<style scoped>\n",
       "    .dataframe tbody tr th:only-of-type {\n",
       "        vertical-align: middle;\n",
       "    }\n",
       "\n",
       "    .dataframe tbody tr th {\n",
       "        vertical-align: top;\n",
       "    }\n",
       "\n",
       "    .dataframe thead th {\n",
       "        text-align: right;\n",
       "    }\n",
       "</style>\n",
       "<table border=\"1\" class=\"dataframe\">\n",
       "  <thead>\n",
       "    <tr style=\"text-align: right;\">\n",
       "      <th></th>\n",
       "      <th>id</th>\n",
       "      <th>large_bowel</th>\n",
       "      <th>small_bowel</th>\n",
       "      <th>stomach</th>\n",
       "      <th>Address</th>\n",
       "      <th>case</th>\n",
       "      <th>day</th>\n",
       "      <th>slice</th>\n",
       "      <th>weidth</th>\n",
       "      <th>height</th>\n",
       "      <th>counts</th>\n",
       "    </tr>\n",
       "  </thead>\n",
       "  <tbody>\n",
       "    <tr>\n",
       "      <th>0</th>\n",
       "      <td>case123_day20_slice_0065</td>\n",
       "      <td>NaN</td>\n",
       "      <td>NaN</td>\n",
       "      <td>28094 3 28358 7 28623 9 28889 9 29155 9 29421 ...</td>\n",
       "      <td>./UW_madison_dataset/train/case123/case123_day...</td>\n",
       "      <td>123</td>\n",
       "      <td>20</td>\n",
       "      <td>0065</td>\n",
       "      <td>266</td>\n",
       "      <td>266</td>\n",
       "      <td>1</td>\n",
       "    </tr>\n",
       "    <tr>\n",
       "      <th>1</th>\n",
       "      <td>case123_day20_slice_0066</td>\n",
       "      <td>NaN</td>\n",
       "      <td>NaN</td>\n",
       "      <td>27561 8 27825 11 28090 13 28355 14 28620 15 28...</td>\n",
       "      <td>./UW_madison_dataset/train/case123/case123_day...</td>\n",
       "      <td>123</td>\n",
       "      <td>20</td>\n",
       "      <td>0066</td>\n",
       "      <td>266</td>\n",
       "      <td>266</td>\n",
       "      <td>1</td>\n",
       "    </tr>\n",
       "    <tr>\n",
       "      <th>2</th>\n",
       "      <td>case123_day20_slice_0067</td>\n",
       "      <td>NaN</td>\n",
       "      <td>NaN</td>\n",
       "      <td>15323 4 15587 8 15852 10 16117 11 16383 12 166...</td>\n",
       "      <td>./UW_madison_dataset/train/case123/case123_day...</td>\n",
       "      <td>123</td>\n",
       "      <td>20</td>\n",
       "      <td>0067</td>\n",
       "      <td>266</td>\n",
       "      <td>266</td>\n",
       "      <td>1</td>\n",
       "    </tr>\n",
       "    <tr>\n",
       "      <th>3</th>\n",
       "      <td>case123_day20_slice_0068</td>\n",
       "      <td>NaN</td>\n",
       "      <td>NaN</td>\n",
       "      <td>14792 5 15056 9 15321 11 15587 11 15852 13 161...</td>\n",
       "      <td>./UW_madison_dataset/train/case123/case123_day...</td>\n",
       "      <td>123</td>\n",
       "      <td>20</td>\n",
       "      <td>0068</td>\n",
       "      <td>266</td>\n",
       "      <td>266</td>\n",
       "      <td>1</td>\n",
       "    </tr>\n",
       "    <tr>\n",
       "      <th>4</th>\n",
       "      <td>case123_day20_slice_0069</td>\n",
       "      <td>NaN</td>\n",
       "      <td>NaN</td>\n",
       "      <td>14526 6 14789 12 15054 14 15319 16 15584 17 15...</td>\n",
       "      <td>./UW_madison_dataset/train/case123/case123_day...</td>\n",
       "      <td>123</td>\n",
       "      <td>20</td>\n",
       "      <td>0069</td>\n",
       "      <td>266</td>\n",
       "      <td>266</td>\n",
       "      <td>1</td>\n",
       "    </tr>\n",
       "    <tr>\n",
       "      <th>...</th>\n",
       "      <td>...</td>\n",
       "      <td>...</td>\n",
       "      <td>...</td>\n",
       "      <td>...</td>\n",
       "      <td>...</td>\n",
       "      <td>...</td>\n",
       "      <td>...</td>\n",
       "      <td>...</td>\n",
       "      <td>...</td>\n",
       "      <td>...</td>\n",
       "      <td>...</td>\n",
       "    </tr>\n",
       "    <tr>\n",
       "      <th>16570</th>\n",
       "      <td>case30_day0_slice_0118</td>\n",
       "      <td>16925 3 17189 17 17454 21 17720 23 17985 25 18...</td>\n",
       "      <td>20957 4 21220 9 21484 13 21749 15 22014 17 222...</td>\n",
       "      <td>16624 3 16883 17 16903 3 17146 33 17410 37 176...</td>\n",
       "      <td>./UW_madison_dataset/train/case30/case30_day0/...</td>\n",
       "      <td>30</td>\n",
       "      <td>0</td>\n",
       "      <td>0118</td>\n",
       "      <td>266</td>\n",
       "      <td>266</td>\n",
       "      <td>3</td>\n",
       "    </tr>\n",
       "    <tr>\n",
       "      <th>16571</th>\n",
       "      <td>case30_day0_slice_0119</td>\n",
       "      <td>17190 16 17454 21 17720 22 17985 25 18251 26 1...</td>\n",
       "      <td>21222 6 21485 11 21750 13 22016 15 22282 16 22...</td>\n",
       "      <td>16883 12 17146 31 17411 36 17675 39 17938 43 1...</td>\n",
       "      <td>./UW_madison_dataset/train/case30/case30_day0/...</td>\n",
       "      <td>30</td>\n",
       "      <td>0</td>\n",
       "      <td>0119</td>\n",
       "      <td>266</td>\n",
       "      <td>266</td>\n",
       "      <td>3</td>\n",
       "    </tr>\n",
       "    <tr>\n",
       "      <th>16572</th>\n",
       "      <td>case30_day0_slice_0120</td>\n",
       "      <td>17190 16 17454 21 17720 23 17985 25 18251 26 1...</td>\n",
       "      <td>21488 6 21751 10 22017 12 22282 14 22549 14 22...</td>\n",
       "      <td>16886 8 17147 18 17411 33 17675 37 17939 41 18...</td>\n",
       "      <td>./UW_madison_dataset/train/case30/case30_day0/...</td>\n",
       "      <td>30</td>\n",
       "      <td>0</td>\n",
       "      <td>0120</td>\n",
       "      <td>266</td>\n",
       "      <td>266</td>\n",
       "      <td>3</td>\n",
       "    </tr>\n",
       "    <tr>\n",
       "      <th>16573</th>\n",
       "      <td>case30_day0_slice_0121</td>\n",
       "      <td>17191 14 17455 19 17720 23 17985 25 18251 26 1...</td>\n",
       "      <td>21753 7 22017 10 22283 11 22549 12 22814 15 23...</td>\n",
       "      <td>16889 2 17149 13 17413 22 17676 27 17939 33 18...</td>\n",
       "      <td>./UW_madison_dataset/train/case30/case30_day0/...</td>\n",
       "      <td>30</td>\n",
       "      <td>0</td>\n",
       "      <td>0121</td>\n",
       "      <td>266</td>\n",
       "      <td>266</td>\n",
       "      <td>3</td>\n",
       "    </tr>\n",
       "    <tr>\n",
       "      <th>16574</th>\n",
       "      <td>case30_day0_slice_0122</td>\n",
       "      <td>17198 4 17456 16 17720 22 17986 23 18251 26 18...</td>\n",
       "      <td>22019 6 22283 10 22548 12 22814 13 23079 15 23...</td>\n",
       "      <td>17151 7 17414 16 17677 21 17939 26 18202 29 18...</td>\n",
       "      <td>./UW_madison_dataset/train/case30/case30_day0/...</td>\n",
       "      <td>30</td>\n",
       "      <td>0</td>\n",
       "      <td>0122</td>\n",
       "      <td>266</td>\n",
       "      <td>266</td>\n",
       "      <td>3</td>\n",
       "    </tr>\n",
       "  </tbody>\n",
       "</table>\n",
       "<p>16575 rows × 11 columns</p>\n",
       "</div>"
      ],
      "text/plain": [
       "                             id  \\\n",
       "0      case123_day20_slice_0065   \n",
       "1      case123_day20_slice_0066   \n",
       "2      case123_day20_slice_0067   \n",
       "3      case123_day20_slice_0068   \n",
       "4      case123_day20_slice_0069   \n",
       "...                         ...   \n",
       "16570    case30_day0_slice_0118   \n",
       "16571    case30_day0_slice_0119   \n",
       "16572    case30_day0_slice_0120   \n",
       "16573    case30_day0_slice_0121   \n",
       "16574    case30_day0_slice_0122   \n",
       "\n",
       "                                             large_bowel  \\\n",
       "0                                                    NaN   \n",
       "1                                                    NaN   \n",
       "2                                                    NaN   \n",
       "3                                                    NaN   \n",
       "4                                                    NaN   \n",
       "...                                                  ...   \n",
       "16570  16925 3 17189 17 17454 21 17720 23 17985 25 18...   \n",
       "16571  17190 16 17454 21 17720 22 17985 25 18251 26 1...   \n",
       "16572  17190 16 17454 21 17720 23 17985 25 18251 26 1...   \n",
       "16573  17191 14 17455 19 17720 23 17985 25 18251 26 1...   \n",
       "16574  17198 4 17456 16 17720 22 17986 23 18251 26 18...   \n",
       "\n",
       "                                             small_bowel  \\\n",
       "0                                                    NaN   \n",
       "1                                                    NaN   \n",
       "2                                                    NaN   \n",
       "3                                                    NaN   \n",
       "4                                                    NaN   \n",
       "...                                                  ...   \n",
       "16570  20957 4 21220 9 21484 13 21749 15 22014 17 222...   \n",
       "16571  21222 6 21485 11 21750 13 22016 15 22282 16 22...   \n",
       "16572  21488 6 21751 10 22017 12 22282 14 22549 14 22...   \n",
       "16573  21753 7 22017 10 22283 11 22549 12 22814 15 23...   \n",
       "16574  22019 6 22283 10 22548 12 22814 13 23079 15 23...   \n",
       "\n",
       "                                                 stomach  \\\n",
       "0      28094 3 28358 7 28623 9 28889 9 29155 9 29421 ...   \n",
       "1      27561 8 27825 11 28090 13 28355 14 28620 15 28...   \n",
       "2      15323 4 15587 8 15852 10 16117 11 16383 12 166...   \n",
       "3      14792 5 15056 9 15321 11 15587 11 15852 13 161...   \n",
       "4      14526 6 14789 12 15054 14 15319 16 15584 17 15...   \n",
       "...                                                  ...   \n",
       "16570  16624 3 16883 17 16903 3 17146 33 17410 37 176...   \n",
       "16571  16883 12 17146 31 17411 36 17675 39 17938 43 1...   \n",
       "16572  16886 8 17147 18 17411 33 17675 37 17939 41 18...   \n",
       "16573  16889 2 17149 13 17413 22 17676 27 17939 33 18...   \n",
       "16574  17151 7 17414 16 17677 21 17939 26 18202 29 18...   \n",
       "\n",
       "                                                 Address case day slice  \\\n",
       "0      ./UW_madison_dataset/train/case123/case123_day...  123  20  0065   \n",
       "1      ./UW_madison_dataset/train/case123/case123_day...  123  20  0066   \n",
       "2      ./UW_madison_dataset/train/case123/case123_day...  123  20  0067   \n",
       "3      ./UW_madison_dataset/train/case123/case123_day...  123  20  0068   \n",
       "4      ./UW_madison_dataset/train/case123/case123_day...  123  20  0069   \n",
       "...                                                  ...  ...  ..   ...   \n",
       "16570  ./UW_madison_dataset/train/case30/case30_day0/...   30   0  0118   \n",
       "16571  ./UW_madison_dataset/train/case30/case30_day0/...   30   0  0119   \n",
       "16572  ./UW_madison_dataset/train/case30/case30_day0/...   30   0  0120   \n",
       "16573  ./UW_madison_dataset/train/case30/case30_day0/...   30   0  0121   \n",
       "16574  ./UW_madison_dataset/train/case30/case30_day0/...   30   0  0122   \n",
       "\n",
       "       weidth  height  counts  \n",
       "0         266     266       1  \n",
       "1         266     266       1  \n",
       "2         266     266       1  \n",
       "3         266     266       1  \n",
       "4         266     266       1  \n",
       "...       ...     ...     ...  \n",
       "16570     266     266       3  \n",
       "16571     266     266       3  \n",
       "16572     266     266       3  \n",
       "16573     266     266       3  \n",
       "16574     266     266       3  \n",
       "\n",
       "[16575 rows x 11 columns]"
      ]
     },
     "metadata": {},
     "output_type": "display_data"
    },
    {
     "data": {
      "text/plain": [
       "(16590, 11)"
      ]
     },
     "execution_count": 90,
     "metadata": {},
     "output_type": "execute_result"
    }
   ],
   "source": [
    "display(mask_df.head(-15))\n",
    "mask_df.shape"
   ]
  },
  {
   "cell_type": "markdown",
   "metadata": {},
   "source": [
    "Split Train Test Validation"
   ]
  },
  {
   "cell_type": "code",
   "execution_count": 103,
   "metadata": {},
   "outputs": [],
   "source": [
    "root = \"./UW_madison_dataset/\"\n",
    "\n",
    "train_cases = open(root+'train.txt', 'r').read().replace('case', '').split('\\n')\n",
    "test_cases = open(root+'test.txt', 'r').read().replace('case', '').split('\\n')\n",
    "validation_cases = open(root+'validation.txt', 'r').read().replace('case', '').split('\\n')"
   ]
  },
  {
   "cell_type": "code",
   "execution_count": 106,
   "metadata": {},
   "outputs": [],
   "source": [
    "train_df = mask_df[mask_df['case'].isin(train_cases)]\n",
    "test_df = mask_df[mask_df['case'].isin(test_cases)]\n",
    "valid_df = mask_df[mask_df['case'].isin(validation_cases)]"
   ]
  },
  {
   "cell_type": "markdown",
   "metadata": {},
   "source": [
    "Save Mask DataFrame"
   ]
  },
  {
   "cell_type": "code",
   "execution_count": 92,
   "metadata": {},
   "outputs": [],
   "source": [
    "new_df.to_csv(\"./UW_madison_dataset/mask.csv\", index=False)\n",
    "mask_df.to_csv(\"./UW_madison_dataset/mask.csv\", index=False)"
   ]
  },
  {
   "cell_type": "code",
   "execution_count": 107,
   "metadata": {},
   "outputs": [],
   "source": [
    "train_df.to_csv(\"./UW_madison_dataset/train.csv\", index=False)\n",
    "test_df.to_csv(\"./UW_madison_dataset/test.csv\", index=False)\n",
    "valid_df.to_csv(\"./UW_madison_dataset/valid.csv\", index=False)"
   ]
  }
 ],
 "metadata": {
  "kernelspec": {
   "display_name": "Python 3",
   "language": "python",
   "name": "python3"
  },
  "language_info": {
   "codemirror_mode": {
    "name": "ipython",
    "version": 3
   },
   "file_extension": ".py",
   "mimetype": "text/x-python",
   "name": "python",
   "nbconvert_exporter": "python",
   "pygments_lexer": "ipython3",
   "version": "3.11.4"
  }
 },
 "nbformat": 4,
 "nbformat_minor": 2
}
