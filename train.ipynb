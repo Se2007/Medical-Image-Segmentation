{
 "cells": [
  {
   "cell_type": "markdown",
   "metadata": {},
   "source": [
    "### Imports"
   ]
  },
  {
   "cell_type": "code",
   "execution_count": 1,
   "metadata": {},
   "outputs": [],
   "source": [
    "import torch\n",
    "from torch import nn\n",
    "import torch.nn.functional as F\n",
    "from torch import optim\n",
    "\n",
    "import matplotlib.pyplot as plt\n",
    "import math\n",
    "import numpy as np\n",
    "import  wandb\n",
    "import os\n",
    "import time\n",
    "\n",
    "from torchmetrics import Dice\n",
    "import segmentation_models_pytorch as smp\n",
    "\n",
    "## depend to the files of the project\n",
    "import utils \n",
    "from utils import load, save, plot\n",
    "from benchmark import dataset\n",
    "from Unet import unet\n",
    "from utils import load, save, plot"
   ]
  },
  {
   "cell_type": "markdown",
   "metadata": {},
   "source": [
    "### Loading the WandB"
   ]
  },
  {
   "cell_type": "code",
   "execution_count": null,
   "metadata": {},
   "outputs": [],
   "source": [
    "key_file = './wandb-key.txt'\n",
    "\n",
    "if os.path.exists(key_file):\n",
    "    with open(key_file) as f:\n",
    "        key = f.readline().strip()\n",
    "    wandb.login(key=key)\n",
    "else:\n",
    "    print(\"Key file does not exist. Please create the key file with your wandb API key.\")"
   ]
  },
  {
   "cell_type": "markdown",
   "metadata": {},
   "source": [
    "### Arguments"
   ]
  },
  {
   "cell_type": "code",
   "execution_count": 25,
   "metadata": {},
   "outputs": [],
   "source": [
    "seed = 3\n",
    "wandb_enable = True\n",
    "\n",
    "info = {'num_epoch' :10,\n",
    "        'lr' : 0.3,\n",
    "        'weight_decay' : 1e-05,\n",
    "        'device' : 'cuda',\n",
    "        'reset': True,\n",
    "        'name_load' : 'name',\n",
    "        'model_load_path' : './model/',\n",
    "        'model_save_path' : './model/'\n",
    "        }\n",
    "\n"
   ]
  },
  {
   "cell_type": "markdown",
   "metadata": {},
   "source": [
    "Initialize `wandb`"
   ]
  },
  {
   "cell_type": "code",
   "execution_count": 7,
   "metadata": {},
   "outputs": [
    {
     "data": {
      "text/html": [
       "Tracking run with wandb version 0.16.0"
      ],
      "text/plain": [
       "<IPython.core.display.HTML object>"
      ]
     },
     "metadata": {},
     "output_type": "display_data"
    },
    {
     "data": {
      "text/html": [
       "Run data is saved locally in <code>d:\\Language-Modeling\\wandb\\run-20231122_184753-90gsh16r</code>"
      ],
      "text/plain": [
       "<IPython.core.display.HTML object>"
      ]
     },
     "metadata": {},
     "output_type": "display_data"
    },
    {
     "data": {
      "text/html": [
       "Syncing run <strong><a href='https://wandb.ai/face-estimation/Language-Modeling/runs/90gsh16r' target=\"_blank\">AdaptiveInput-encoder-transformer-dropout</a></strong> to <a href='https://wandb.ai/face-estimation/Language-Modeling' target=\"_blank\">Weights & Biases</a> (<a href='https://wandb.me/run' target=\"_blank\">docs</a>)<br/>"
      ],
      "text/plain": [
       "<IPython.core.display.HTML object>"
      ]
     },
     "metadata": {},
     "output_type": "display_data"
    },
    {
     "data": {
      "text/html": [
       " View project at <a href='https://wandb.ai/face-estimation/Language-Modeling' target=\"_blank\">https://wandb.ai/face-estimation/Language-Modeling</a>"
      ],
      "text/plain": [
       "<IPython.core.display.HTML object>"
      ]
     },
     "metadata": {},
     "output_type": "display_data"
    },
    {
     "data": {
      "text/html": [
       " View run at <a href='https://wandb.ai/face-estimation/Language-Modeling/runs/90gsh16r' target=\"_blank\">https://wandb.ai/face-estimation/Language-Modeling/runs/90gsh16r</a>"
      ],
      "text/plain": [
       "<IPython.core.display.HTML object>"
      ]
     },
     "metadata": {},
     "output_type": "display_data"
    },
    {
     "data": {
      "text/html": [
       "<button onClick=\"this.nextSibling.style.display='block';this.style.display='none';\">Display W&B run</button><iframe src='https://wandb.ai/face-estimation/Language-Modeling/runs/90gsh16r?jupyter=true' style='border:none;width:100%;height:420px;display:none;'></iframe>"
      ],
      "text/plain": [
       "<wandb.sdk.wandb_run.Run at 0x1ef37328810>"
      ]
     },
     "execution_count": 7,
     "metadata": {},
     "output_type": "execute_result"
    }
   ],
   "source": [
    "wandb_arg_name = 'unet' # name of this training process\n",
    "wandb.init(\n",
    "        project='Medical Image Segmentation',  # name of the project\n",
    "        name=wandb_arg_name,\n",
    "        config={\n",
    "            'lr': info['lr'],\n",
    "            'weight_decay': info['weight_decay'],\n",
    "            'num_epoch': info['num_epoch']\n",
    "        }\n",
    "    )\n"
   ]
  },
  {
   "cell_type": "markdown",
   "metadata": {},
   "source": [
    "### Main Loop"
   ]
  },
  {
   "cell_type": "code",
   "execution_count": 26,
   "metadata": {},
   "outputs": [],
   "source": [
    "loss_train_hist = []\n",
    "loss_valid_hist = []\n",
    "\n",
    "metric_train_hist = []\n",
    "metric_valid_hist = []\n",
    "\n",
    "best_loss_valid = torch.inf\n",
    "epoch_counter = 0"
   ]
  },
  {
   "cell_type": "markdown",
   "metadata": {},
   "source": [
    "Deffine the `Dataloader`"
   ]
  },
  {
   "cell_type": "code",
   "execution_count": 22,
   "metadata": {},
   "outputs": [
    {
     "name": "stderr",
     "output_type": "stream",
     "text": [
      "C:\\Users\\USER\\AppData\\Roaming\\Python\\Python311\\site-packages\\torchvision\\transforms\\v2\\_deprecated.py:43: UserWarning: The transform `ToTensor()` is deprecated and will be removed in a future release. Instead, please use `v2.Compose([v2.ToImage(), v2.ToDtype(torch.float32, scale=True)])`.\n",
      "  warnings.warn(\n",
      "C:\\Users\\USER\\AppData\\Roaming\\Python\\Python311\\site-packages\\torchvision\\transforms\\v2\\_deprecated.py:43: UserWarning: The transform `ToTensor()` is deprecated and will be removed in a future release. Instead, please use `v2.Compose([v2.ToImage(), v2.ToDtype(torch.float32, scale=True)])`.\n",
      "  warnings.warn(\n"
     ]
    }
   ],
   "source": [
    "train_batch_size = 32\n",
    "valid_batch_size = 64\n",
    "\n",
    "train_loader = dataset.UW_madison(root='./benchmark/UW_madison_dataset', mode='train', mini=False, memory=True)(batch_size=train_batch_size)\n",
    "valid_loader = dataset.UW_madison(root='./benchmark/UW_madison_dataset', mode='valid', mini=False, memory=False)(batch_size=valid_batch_size)"
   ]
  },
  {
   "cell_type": "markdown",
   "metadata": {},
   "source": [
    " Define the `Model` - `Optimizer` - `Loss Function` - `Metric`"
   ]
  },
  {
   "cell_type": "code",
   "execution_count": 27,
   "metadata": {},
   "outputs": [],
   "source": [
    "load_path = info['model_load_path'] + info['name_load'] + \".pth\"\n",
    "\n",
    "model = unet.UNet(n_channels=3, n_classes=3, bilinear=False).to(info['device'])\n",
    "\n",
    "optimizer = optim.SGD(model.parameters(), lr=info['lr'], weight_decay=info['weight_decay'], momentum=0.9)# , nesterov=True\n",
    "lr_scheduler = optim.lr_scheduler.MultiStepLR(optimizer, milestones=[5, 10, 15], gamma=0.1)\n",
    "\n",
    "loss_fn = smp.losses.DiceLoss(mode='multilabel')\n",
    "\n",
    "metric = Dice().to(info['device'])\n",
    "\n",
    "model, loss_fn, _ = load(model, loss_fn, optimizer, device=info['device'], reset = info['reset'], load_path = load_path)\n",
    "\n",
    "save_path = info['model_save_path'] + 'unet'+ \".pth\""
   ]
  },
  {
   "cell_type": "markdown",
   "metadata": {},
   "source": [
    "**`Training`**"
   ]
  },
  {
   "cell_type": "code",
   "execution_count": 30,
   "metadata": {},
   "outputs": [
    {
     "name": "stderr",
     "output_type": "stream",
     "text": [
      "  0%|          | 0/376 [00:00<?, ?batch/s]"
     ]
    },
    {
     "name": "stderr",
     "output_type": "stream",
     "text": [
      "Epoch 1: 100%|██████████| 376/376 [08:42<00:00,  1.39s/batch, loss=0.143, metric=0.85] \n"
     ]
    },
    {
     "name": "stdout",
     "output_type": "stream",
     "text": [
      "Train      - Loss:0.14312610030174255  Metric:0.8500948548316956\n",
      "Validation - Loss:0.2031872272491455  Metric:0.7894536256790161\n",
      "LR = 0.003\n",
      "\n"
     ]
    },
    {
     "name": "stderr",
     "output_type": "stream",
     "text": [
      "Epoch 2: 100%|██████████| 376/376 [08:43<00:00,  1.39s/batch, loss=0.143, metric=0.85] \n"
     ]
    },
    {
     "name": "stdout",
     "output_type": "stream",
     "text": [
      "Train      - Loss:0.14325527846813202  Metric:0.8498080968856812\n",
      "Validation - Loss:0.19924020767211914  Metric:0.792933464050293\n",
      "LR = 0.003\n",
      "\n"
     ]
    },
    {
     "name": "stderr",
     "output_type": "stream",
     "text": [
      "Epoch 3: 100%|██████████| 376/376 [08:50<00:00,  1.41s/batch, loss=0.143, metric=0.85] \n"
     ]
    },
    {
     "name": "stdout",
     "output_type": "stream",
     "text": [
      "Train      - Loss:0.14320361614227295  Metric:0.8501619696617126\n",
      "Validation - Loss:0.19969667494297028  Metric:0.7921416163444519\n",
      "LR = 0.003\n",
      "\n"
     ]
    },
    {
     "name": "stderr",
     "output_type": "stream",
     "text": [
      "Epoch 4: 100%|██████████| 376/376 [08:46<00:00,  1.40s/batch, loss=0.143, metric=0.851]\n"
     ]
    },
    {
     "name": "stdout",
     "output_type": "stream",
     "text": [
      "Train      - Loss:0.14275358617305756  Metric:0.8507795929908752\n",
      "Validation - Loss:0.20075640082359314  Metric:0.7910115122795105\n",
      "LR = 0.003\n",
      "\n"
     ]
    },
    {
     "name": "stderr",
     "output_type": "stream",
     "text": [
      "Epoch 5: 100%|██████████| 376/376 [08:46<00:00,  1.40s/batch, loss=0.143, metric=0.851]\n"
     ]
    },
    {
     "name": "stdout",
     "output_type": "stream",
     "text": [
      "Train      - Loss:0.14267568290233612  Metric:0.8508689403533936\n",
      "Validation - Loss:0.20128613710403442  Metric:0.7892723679542542\n",
      "LR = 0.003\n",
      "\n"
     ]
    },
    {
     "name": "stderr",
     "output_type": "stream",
     "text": [
      "Epoch 6: 100%|██████████| 376/376 [09:00<00:00,  1.44s/batch, loss=0.143, metric=0.851]\n"
     ]
    },
    {
     "name": "stdout",
     "output_type": "stream",
     "text": [
      "Train      - Loss:0.1426991969347  Metric:0.8507552146911621\n",
      "Validation - Loss:0.19833073019981384  Metric:0.7930324673652649\n",
      "LR = 0.00030000000000000003\n",
      "\n",
      "Model Saved (\"o\")\n"
     ]
    },
    {
     "name": "stderr",
     "output_type": "stream",
     "text": [
      "Epoch 7: 100%|██████████| 376/376 [11:00<00:00,  1.76s/batch, loss=0.142, metric=0.851]\n"
     ]
    },
    {
     "name": "stdout",
     "output_type": "stream",
     "text": [
      "Train      - Loss:0.14227168262004852  Metric:0.8511493802070618\n",
      "Validation - Loss:0.20154008269309998  Metric:0.7902300953865051\n",
      "LR = 0.00030000000000000003\n",
      "\n"
     ]
    },
    {
     "name": "stderr",
     "output_type": "stream",
     "text": [
      "Epoch 8: 100%|██████████| 376/376 [11:50<00:00,  1.89s/batch, loss=0.143, metric=0.851]\n"
     ]
    },
    {
     "name": "stdout",
     "output_type": "stream",
     "text": [
      "Train      - Loss:0.14257557690143585  Metric:0.8509413003921509\n",
      "Validation - Loss:0.20205406844615936  Metric:0.7901759147644043\n",
      "LR = 0.00030000000000000003\n",
      "\n"
     ]
    },
    {
     "name": "stderr",
     "output_type": "stream",
     "text": [
      "Epoch 9: 100%|██████████| 376/376 [11:52<00:00,  1.89s/batch, loss=0.142, metric=0.851]\n"
     ]
    },
    {
     "name": "stdout",
     "output_type": "stream",
     "text": [
      "Train      - Loss:0.1423845738172531  Metric:0.8511108756065369\n",
      "Validation - Loss:0.20002682507038116  Metric:0.7920966148376465\n",
      "LR = 0.00030000000000000003\n",
      "\n"
     ]
    },
    {
     "name": "stderr",
     "output_type": "stream",
     "text": [
      "Epoch 10: 100%|██████████| 376/376 [10:51<00:00,  1.73s/batch, loss=0.142, metric=0.851]\n"
     ]
    },
    {
     "name": "stdout",
     "output_type": "stream",
     "text": [
      "Train      - Loss:0.1419021040201187  Metric:0.8513803482055664\n",
      "Validation - Loss:0.198538675904274  Metric:0.7921291589736938\n",
      "LR = 0.00030000000000000003\n",
      "\n"
     ]
    }
   ],
   "source": [
    "epochs = info['num_epoch']\n",
    "\n",
    "for epoch in range(1, epochs+1):\n",
    "    ## Train\n",
    "    model, loss_train, metric_train = utils.train_one_epoch(model,\n",
    "                                                            train_loader,\n",
    "                                                            loss_fn,\n",
    "                                                            optimizer,\n",
    "                                                            metric,\n",
    "                                                            epoch,\n",
    "                                                            device=info['device'])\n",
    "    \n",
    "    ## Validation\n",
    "    loss_valid, metric_valid = utils.evaluate(model,\n",
    "                                              valid_loader,\n",
    "                                              loss_fn,\n",
    "                                              metric,\n",
    "                                              device=info['device'])\n",
    "\n",
    "        \n",
    "    loss_train_hist.append(loss_train)\n",
    "    loss_valid_hist.append(loss_valid)\n",
    "\n",
    "    metric_train_hist.append(metric_train)\n",
    "    metric_valid_hist.append(metric_valid)\n",
    "\n",
    "\n",
    "    print(f'Train      - Loss:{loss_train}  Metric:{metric_train}')\n",
    "    print(f'Validation - Loss:{loss_valid}  Metric:{metric_valid}')\n",
    "    print(f'LR = {lr_scheduler.get_last_lr()[0]}')\n",
    "    print()\n",
    "\n",
    "    if loss_valid < best_loss_valid:\n",
    "        save(save_path, model, optimizer, loss_fn)\n",
    "        best_loss_valid = loss_valid\n",
    "        print('Model Saved (\"o\")')\n",
    "\n",
    "    if wandb_enable:\n",
    "        wandb.log({\"metric_train\": metric_train, \"loss_train\": loss_train,\n",
    "                   \"metric_valid\": metric_valid, \"loss_valid\": loss_valid})\n",
    "        \n",
    "    lr_scheduler.step()\n",
    "\n",
    "    epoch_counter += 1\n",
    "\n",
    "\n",
    "\n"
   ]
  },
  {
   "cell_type": "code",
   "execution_count": null,
   "metadata": {},
   "outputs": [],
   "source": [
    "wandb.finish()"
   ]
  },
  {
   "cell_type": "markdown",
   "metadata": {},
   "source": [
    "### Plot learning curves"
   ]
  },
  {
   "cell_type": "code",
   "execution_count": 10,
   "metadata": {},
   "outputs": [
    {
     "name": "stdout",
     "output_type": "stream",
     "text": [
      "\n",
      "Trained 10 epochs\n"
     ]
    },
    {
     "data": {
      "image/png": "[encoded data removed]",
      "text/plain": [
       "<Figure size 640x480 with 1 Axes>"
      ]
     },
     "metadata": {},
     "output_type": "display_data"
    },
    {
     "name": "stdout",
     "output_type": "stream",
     "text": [
      "\n",
      "Trained 10 epochs\n"
     ]
    },
    {
     "data": {
      "image/png": "[encoded data removed]",
      "text/plain": [
       "<Figure size 640x480 with 1 Axes>"
      ]
     },
     "metadata": {},
     "output_type": "display_data"
    }
   ],
   "source": [
    "plot(metric_train_hist, metric_valid_hist, \"Metric\")\n",
    "plot(loss_train_hist, loss_valid_hist, 'Loss')"
   ]
  }
 ],
 "metadata": {
  "kernelspec": {
   "display_name": "Python 3",
   "language": "python",
   "name": "python3"
  },
  "language_info": {
   "codemirror_mode": {
    "name": "ipython",
    "version": 3
   },
   "file_extension": ".py",
   "mimetype": "text/x-python",
   "name": "python",
   "nbconvert_exporter": "python",
   "pygments_lexer": "ipython3",
   "version": "3.11.4"
  }
 },
 "nbformat": 4,
 "nbformat_minor": 2
}
