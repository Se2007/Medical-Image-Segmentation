{
 "cells": [
  {
   "cell_type": "markdown",
   "metadata": {},
   "source": [
    "### Imports"
   ]
  },
  {
   "cell_type": "code",
   "execution_count": 21,
   "metadata": {},
   "outputs": [],
   "source": [
    "import torch\n",
    "from torch import nn\n",
    "import torch.nn.functional as F\n",
    "from torch import optim\n",
    "\n",
    "import matplotlib.pyplot as plt\n",
    "import math\n",
    "import numpy as np\n",
    "import  wandb\n",
    "import os\n",
    "import time\n",
    "\n",
    "from torchmetrics import Dice\n",
    "import segmentation_models_pytorch as smp\n",
    "\n",
    "## depend to the files of the project\n",
    "import utils \n",
    "from utils import load, save, plot\n",
    "from benchmark import dataset\n",
    "from Unet import unet\n",
    "from utils import load, save, plot"
   ]
  },
  {
   "cell_type": "markdown",
   "metadata": {},
   "source": [
    "### Loading the WandB"
   ]
  },
  {
   "cell_type": "code",
   "execution_count": 22,
   "metadata": {},
   "outputs": [
    {
     "name": "stderr",
     "output_type": "stream",
     "text": [
      "\u001b[34m\u001b[1mwandb\u001b[0m: \u001b[33mWARNING\u001b[0m Calling wandb.login() after wandb.init() has no effect.\n"
     ]
    }
   ],
   "source": [
    "key_file = './wandb-key.txt'\n",
    "\n",
    "if os.path.exists(key_file):\n",
    "    with open(key_file) as f:\n",
    "        key = f.readline().strip()\n",
    "    wandb.login(key=key)\n",
    "else:\n",
    "    print(\"Key file does not exist. Please create the key file with your wandb API key.\")"
   ]
  },
  {
   "cell_type": "markdown",
   "metadata": {},
   "source": [
    "### Arguments"
   ]
  },
  {
   "cell_type": "code",
   "execution_count": 26,
   "metadata": {},
   "outputs": [],
   "source": [
    "seed = 3\n",
    "wandb_enable = True\n",
    "\n",
    "info = {'num_epoch' :10,\n",
    "        'lr' : 0.3,\n",
    "        'weight_decay' : 0.0001,\n",
    "        'device' : 'cuda',\n",
    "        'reset': True,\n",
    "        'name_load' : 'unet-efficientnet-encoder',\n",
    "        'model_load_path' : './saved_model/',\n",
    "        'model_save_path' : './saved_model/'\n",
    "        }\n",
    "\n"
   ]
  },
  {
   "cell_type": "markdown",
   "metadata": {},
   "source": [
    "Initialize `wandb`"
   ]
  },
  {
   "cell_type": "code",
   "execution_count": 27,
   "metadata": {},
   "outputs": [
    {
     "data": {
      "text/html": [
       "Finishing last run (ID:mv57pvg1) before initializing another..."
      ],
      "text/plain": [
       "<IPython.core.display.HTML object>"
      ]
     },
     "metadata": {},
     "output_type": "display_data"
    },
    {
     "data": {
      "application/vnd.jupyter.widget-view+json": {
       "model_id": "c75719fc3b7e43248ce0b5f4af8f72e6",
       "version_major": 2,
       "version_minor": 0
      },
      "text/plain": [
       "VBox(children=(Label(value='0.001 MB of 0.001 MB uploaded\\r'), FloatProgress(value=1.0, max=1.0)))"
      ]
     },
     "metadata": {},
     "output_type": "display_data"
    },
    {
     "data": {
      "text/html": [
       "<style>\n",
       "    table.wandb td:nth-child(1) { padding: 0 10px; text-align: left ; width: auto;} td:nth-child(2) {text-align: left ; width: 100%}\n",
       "    .wandb-row { display: flex; flex-direction: row; flex-wrap: wrap; justify-content: flex-start; width: 100% }\n",
       "    .wandb-col { display: flex; flex-direction: column; flex-basis: 100%; flex: 1; padding: 10px; }\n",
       "    </style>\n",
       "<div class=\"wandb-row\"><div class=\"wandb-col\"><h3>Run history:</h3><br/><table class=\"wandb\"><tr><td>loss_train</td><td>█▄▃▂▂▁▁▁▁▁▁▁▁▁▁▁▁▁▁▁▁▁▁▁▁▁▁▁▁▁</td></tr><tr><td>loss_valid</td><td>█▅▃▂▂▁▁▁▁▁▁▁▁▁▁▁▁▁▁▁▁▁▁▁▁▁▁▁▁▁</td></tr><tr><td>metric_train</td><td>▁▆▇▇▇█████████████████████████</td></tr><tr><td>metric_valid</td><td>▁▄▆▇▇█████████████████████████</td></tr></table><br/></div><div class=\"wandb-col\"><h3>Run summary:</h3><br/><table class=\"wandb\"><tr><td>loss_train</td><td>0.14376</td></tr><tr><td>loss_valid</td><td>0.19855</td></tr><tr><td>metric_train</td><td>0.84981</td></tr><tr><td>metric_valid</td><td>0.79257</td></tr></table><br/></div></div>"
      ],
      "text/plain": [
       "<IPython.core.display.HTML object>"
      ]
     },
     "metadata": {},
     "output_type": "display_data"
    },
    {
     "data": {
      "text/html": [
       " View run <strong style=\"color:#cdcd00\">unet</strong> at: <a href='https://wandb.ai/face-estimation/Medical%20Image%20Segmentation/runs/mv57pvg1' target=\"_blank\">https://wandb.ai/face-estimation/Medical%20Image%20Segmentation/runs/mv57pvg1</a><br/>Synced 5 W&B file(s), 0 media file(s), 0 artifact file(s) and 0 other file(s)"
      ],
      "text/plain": [
       "<IPython.core.display.HTML object>"
      ]
     },
     "metadata": {},
     "output_type": "display_data"
    },
    {
     "data": {
      "text/html": [
       "Find logs at: <code>.\\wandb\\run-20240112_222311-mv57pvg1\\logs</code>"
      ],
      "text/plain": [
       "<IPython.core.display.HTML object>"
      ]
     },
     "metadata": {},
     "output_type": "display_data"
    },
    {
     "data": {
      "text/html": [
       "Successfully finished last run (ID:mv57pvg1). Initializing new run:<br/>"
      ],
      "text/plain": [
       "<IPython.core.display.HTML object>"
      ]
     },
     "metadata": {},
     "output_type": "display_data"
    },
    {
     "data": {
      "application/vnd.jupyter.widget-view+json": {
       "model_id": "2bc3a643213844c7925744df8cc2282f",
       "version_major": 2,
       "version_minor": 0
      },
      "text/plain": [
       "VBox(children=(Label(value='Waiting for wandb.init()...\\r'), FloatProgress(value=0.011111111111111112, max=1.0…"
      ]
     },
     "metadata": {},
     "output_type": "display_data"
    },
    {
     "data": {
      "text/html": [
       "wandb version 0.16.2 is available!  To upgrade, please run:\n",
       " $ pip install wandb --upgrade"
      ],
      "text/plain": [
       "<IPython.core.display.HTML object>"
      ]
     },
     "metadata": {},
     "output_type": "display_data"
    },
    {
     "data": {
      "text/html": [
       "Tracking run with wandb version 0.16.0"
      ],
      "text/plain": [
       "<IPython.core.display.HTML object>"
      ]
     },
     "metadata": {},
     "output_type": "display_data"
    },
    {
     "data": {
      "text/html": [
       "Run data is saved locally in <code>d:\\Medical-Image-Segmentation\\wandb\\run-20240113_212841-68i9vz3e</code>"
      ],
      "text/plain": [
       "<IPython.core.display.HTML object>"
      ]
     },
     "metadata": {},
     "output_type": "display_data"
    },
    {
     "data": {
      "text/html": [
       "Syncing run <strong><a href='https://wandb.ai/face-estimation/Medical%20Image%20Segmentation/runs/68i9vz3e' target=\"_blank\">unet-efficientnet-encoder</a></strong> to <a href='https://wandb.ai/face-estimation/Medical%20Image%20Segmentation' target=\"_blank\">Weights & Biases</a> (<a href='https://wandb.me/run' target=\"_blank\">docs</a>)<br/>"
      ],
      "text/plain": [
       "<IPython.core.display.HTML object>"
      ]
     },
     "metadata": {},
     "output_type": "display_data"
    },
    {
     "data": {
      "text/html": [
       " View project at <a href='https://wandb.ai/face-estimation/Medical%20Image%20Segmentation' target=\"_blank\">https://wandb.ai/face-estimation/Medical%20Image%20Segmentation</a>"
      ],
      "text/plain": [
       "<IPython.core.display.HTML object>"
      ]
     },
     "metadata": {},
     "output_type": "display_data"
    },
    {
     "data": {
      "text/html": [
       " View run at <a href='https://wandb.ai/face-estimation/Medical%20Image%20Segmentation/runs/68i9vz3e' target=\"_blank\">https://wandb.ai/face-estimation/Medical%20Image%20Segmentation/runs/68i9vz3e</a>"
      ],
      "text/plain": [
       "<IPython.core.display.HTML object>"
      ]
     },
     "metadata": {},
     "output_type": "display_data"
    },
    {
     "data": {
      "text/html": [
       "<button onClick=\"this.nextSibling.style.display='block';this.style.display='none';\">Display W&B run</button><iframe src='https://wandb.ai/face-estimation/Medical%20Image%20Segmentation/runs/68i9vz3e?jupyter=true' style='border:none;width:100%;height:420px;display:none;'></iframe>"
      ],
      "text/plain": [
       "<wandb.sdk.wandb_run.Run at 0x17a728e90d0>"
      ]
     },
     "execution_count": 27,
     "metadata": {},
     "output_type": "execute_result"
    }
   ],
   "source": [
    "wandb_arg_name = 'unet-efficientnet-encoder' # name of this training process\n",
    "wandb.init(\n",
    "        project='Medical Image Segmentation',  # name of the project\n",
    "        name=wandb_arg_name,\n",
    "        config={\n",
    "            'lr': info['lr'],\n",
    "            'weight_decay': info['weight_decay'],\n",
    "            'num_epoch': info['num_epoch']\n",
    "        }\n",
    "    )\n"
   ]
  },
  {
   "cell_type": "markdown",
   "metadata": {},
   "source": [
    "### Main Loop"
   ]
  },
  {
   "cell_type": "code",
   "execution_count": 28,
   "metadata": {},
   "outputs": [],
   "source": [
    "loss_train_hist = []\n",
    "loss_valid_hist = []\n",
    "\n",
    "metric_train_hist = []\n",
    "metric_valid_hist = []\n",
    "\n",
    "best_loss_valid = torch.inf\n",
    "epoch_counter = 0"
   ]
  },
  {
   "cell_type": "markdown",
   "metadata": {},
   "source": [
    "Deffine the `Dataloader`"
   ]
  },
  {
   "cell_type": "code",
   "execution_count": 6,
   "metadata": {},
   "outputs": [
    {
     "name": "stderr",
     "output_type": "stream",
     "text": [
      "C:\\Users\\USER\\AppData\\Roaming\\Python\\Python311\\site-packages\\torchvision\\transforms\\v2\\_deprecated.py:43: UserWarning: The transform `ToTensor()` is deprecated and will be removed in a future release. Instead, please use `v2.Compose([v2.ToImage(), v2.ToDtype(torch.float32, scale=True)])`.\n",
      "  warnings.warn(\n",
      "C:\\Users\\USER\\AppData\\Roaming\\Python\\Python311\\site-packages\\torchvision\\transforms\\v2\\_deprecated.py:43: UserWarning: The transform `ToTensor()` is deprecated and will be removed in a future release. Instead, please use `v2.Compose([v2.ToImage(), v2.ToDtype(torch.float32, scale=True)])`.\n",
      "  warnings.warn(\n"
     ]
    }
   ],
   "source": [
    "train_batch_size = 32\n",
    "valid_batch_size = 64\n",
    "\n",
    "train_loader = dataset.UW_madison(root='./benchmark/UW_madison_dataset', mode='train', mini=False, memory=True)(batch_size=train_batch_size)\n",
    "valid_loader = dataset.UW_madison(root='./benchmark/UW_madison_dataset', mode='valid', mini=False, memory=False)(batch_size=valid_batch_size)"
   ]
  },
  {
   "cell_type": "markdown",
   "metadata": {},
   "source": [
    " Define the `Model` - `Optimizer` - `Loss Function` - `Metric`"
   ]
  },
  {
   "cell_type": "code",
   "execution_count": 31,
   "metadata": {},
   "outputs": [],
   "source": [
    "load_path = info['model_load_path'] + info['name_load'] + \".pth\"\n",
    "\n",
    "##  Model\n",
    "# model = unet.UNet(n_channels=3, n_classes=3, bilinear=False).to(info['device'])\n",
    "model = smp.Unet(encoder_name='efficientnet-b1', encoder_weights='imagenet',\n",
    "                in_channels=3, classes=3).to(info['device'])\n",
    "\n",
    "optimizer = optim.SGD(model.parameters(), lr=info['lr'], weight_decay=info['weight_decay'], momentum=0.9)# , nesterov=True\n",
    "lr_scheduler = optim.lr_scheduler.MultiStepLR(optimizer, milestones=[5, 10, 15], gamma=0.1)\n",
    "\n",
    "loss_fn = smp.losses.DiceLoss(mode='multilabel')\n",
    "\n",
    "metric = Dice().to(info['device'])\n",
    "\n",
    "model, loss_fn, _ = load(model, loss_fn, optimizer, device=info['device'], reset = info['reset'], load_path = load_path)\n",
    "\n",
    "save_path = info['model_save_path'] + info['name_load']+ \".pth\""
   ]
  },
  {
   "cell_type": "markdown",
   "metadata": {},
   "source": [
    "**`Training`**"
   ]
  },
  {
   "cell_type": "code",
   "execution_count": 34,
   "metadata": {},
   "outputs": [
    {
     "name": "stderr",
     "output_type": "stream",
     "text": [
      "  0%|          | 0/376 [00:00<?, ?batch/s]"
     ]
    },
    {
     "name": "stderr",
     "output_type": "stream",
     "text": [
      "Epoch 1: 100%|██████████| 376/376 [04:50<00:00,  1.29batch/s, loss=0.128, metric=0.867]\n"
     ]
    },
    {
     "name": "stdout",
     "output_type": "stream",
     "text": [
      "Train      - Loss:0.1281629204750061  Metric:0.8667187094688416\n",
      "Validation - Loss:0.19522221386432648  Metric:0.7975568175315857\n",
      "LR = 0.003\n",
      "\n"
     ]
    },
    {
     "name": "stderr",
     "output_type": "stream",
     "text": [
      "Epoch 2: 100%|██████████| 376/376 [04:50<00:00,  1.30batch/s, loss=0.128, metric=0.867]\n"
     ]
    },
    {
     "name": "stdout",
     "output_type": "stream",
     "text": [
      "Train      - Loss:0.12798753380775452  Metric:0.8666650652885437\n",
      "Validation - Loss:0.19620934128761292  Metric:0.7957669496536255\n",
      "LR = 0.003\n",
      "\n"
     ]
    },
    {
     "name": "stderr",
     "output_type": "stream",
     "text": [
      "Epoch 3: 100%|██████████| 376/376 [04:50<00:00,  1.30batch/s, loss=0.127, metric=0.868]\n"
     ]
    },
    {
     "name": "stdout",
     "output_type": "stream",
     "text": [
      "Train      - Loss:0.12749432027339935  Metric:0.8675058484077454\n",
      "Validation - Loss:0.19598370790481567  Metric:0.7961959838867188\n",
      "LR = 0.003\n",
      "\n"
     ]
    },
    {
     "name": "stderr",
     "output_type": "stream",
     "text": [
      "Epoch 4: 100%|██████████| 376/376 [04:49<00:00,  1.30batch/s, loss=0.127, metric=0.868]\n"
     ]
    },
    {
     "name": "stdout",
     "output_type": "stream",
     "text": [
      "Train      - Loss:0.1274842470884323  Metric:0.8675712943077087\n",
      "Validation - Loss:0.19504283368587494  Metric:0.7969017624855042\n",
      "LR = 0.003\n",
      "\n"
     ]
    },
    {
     "name": "stderr",
     "output_type": "stream",
     "text": [
      "Epoch 5: 100%|██████████| 376/376 [04:50<00:00,  1.30batch/s, loss=0.127, metric=0.868]\n"
     ]
    },
    {
     "name": "stdout",
     "output_type": "stream",
     "text": [
      "Train      - Loss:0.12734107673168182  Metric:0.8676179647445679\n",
      "Validation - Loss:0.1959083378314972  Metric:0.7959564328193665\n",
      "LR = 0.003\n",
      "\n"
     ]
    },
    {
     "name": "stderr",
     "output_type": "stream",
     "text": [
      "Epoch 6: 100%|██████████| 376/376 [04:50<00:00,  1.29batch/s, loss=0.127, metric=0.868]\n"
     ]
    },
    {
     "name": "stdout",
     "output_type": "stream",
     "text": [
      "Train      - Loss:0.12694549560546875  Metric:0.8681707382202148\n",
      "Validation - Loss:0.1978844255208969  Metric:0.7943012714385986\n",
      "LR = 0.00030000000000000003\n",
      "\n"
     ]
    },
    {
     "name": "stderr",
     "output_type": "stream",
     "text": [
      "Epoch 7: 100%|██████████| 376/376 [04:50<00:00,  1.30batch/s, loss=0.127, metric=0.868]\n"
     ]
    },
    {
     "name": "stdout",
     "output_type": "stream",
     "text": [
      "Train      - Loss:0.12691918015480042  Metric:0.86807781457901\n",
      "Validation - Loss:0.1982458531856537  Metric:0.7938780784606934\n",
      "LR = 0.00030000000000000003\n",
      "\n"
     ]
    },
    {
     "name": "stderr",
     "output_type": "stream",
     "text": [
      "Epoch 8: 100%|██████████| 376/376 [04:50<00:00,  1.30batch/s, loss=0.127, metric=0.868]\n"
     ]
    },
    {
     "name": "stdout",
     "output_type": "stream",
     "text": [
      "Train      - Loss:0.12666712701320648  Metric:0.8682587146759033\n",
      "Validation - Loss:0.19484572112560272  Metric:0.7962806820869446\n",
      "LR = 0.00030000000000000003\n",
      "\n"
     ]
    },
    {
     "name": "stderr",
     "output_type": "stream",
     "text": [
      "Epoch 9: 100%|██████████| 376/376 [04:50<00:00,  1.30batch/s, loss=0.126, metric=0.868]\n"
     ]
    },
    {
     "name": "stdout",
     "output_type": "stream",
     "text": [
      "Train      - Loss:0.12628445029258728  Metric:0.8684656023979187\n",
      "Validation - Loss:0.1977585107088089  Metric:0.7939775586128235\n",
      "LR = 0.00030000000000000003\n",
      "\n"
     ]
    },
    {
     "name": "stderr",
     "output_type": "stream",
     "text": [
      "Epoch 10: 100%|██████████| 376/376 [04:50<00:00,  1.30batch/s, loss=0.127, metric=0.868]\n"
     ]
    },
    {
     "name": "stdout",
     "output_type": "stream",
     "text": [
      "Train      - Loss:0.12696734070777893  Metric:0.8680219054222107\n",
      "Validation - Loss:0.19721098244190216  Metric:0.7948127388954163\n",
      "LR = 0.00030000000000000003\n",
      "\n"
     ]
    }
   ],
   "source": [
    "epochs = info['num_epoch']\n",
    "\n",
    "for epoch in range(1, epochs+1):\n",
    "    ## Train\n",
    "    model, loss_train, metric_train = utils.train_one_epoch(model,\n",
    "                                                            train_loader,\n",
    "                                                            loss_fn,\n",
    "                                                            optimizer,\n",
    "                                                            metric,\n",
    "                                                            epoch,\n",
    "                                                            device=info['device'])\n",
    "    \n",
    "    ## Validation\n",
    "    loss_valid, metric_valid = utils.evaluate(model,\n",
    "                                              valid_loader,\n",
    "                                              loss_fn,\n",
    "                                              metric,\n",
    "                                              device=info['device'])\n",
    "\n",
    "        \n",
    "    loss_train_hist.append(loss_train)\n",
    "    loss_valid_hist.append(loss_valid)\n",
    "\n",
    "    metric_train_hist.append(metric_train)\n",
    "    metric_valid_hist.append(metric_valid)\n",
    "\n",
    "\n",
    "    print(f'Train      - Loss:{loss_train}  Metric:{metric_train}')\n",
    "    print(f'Validation - Loss:{loss_valid}  Metric:{metric_valid}')\n",
    "    print(f'LR = {lr_scheduler.get_last_lr()[0]}')\n",
    "    print()\n",
    "\n",
    "    if loss_valid < best_loss_valid:\n",
    "        save(save_path, model, optimizer, loss_fn)\n",
    "        best_loss_valid = loss_valid\n",
    "        print('Model Saved (\"o\")')\n",
    "\n",
    "    if wandb_enable:\n",
    "        wandb.log({\"metric_train\": metric_train, \"loss_train\": loss_train,\n",
    "                   \"metric_valid\": metric_valid, \"loss_valid\": loss_valid})\n",
    "        \n",
    "    lr_scheduler.step()\n",
    "\n",
    "    epoch_counter += 1\n",
    "\n",
    "\n",
    "\n"
   ]
  },
  {
   "cell_type": "code",
   "execution_count": 35,
   "metadata": {},
   "outputs": [
    {
     "data": {
      "application/vnd.jupyter.widget-view+json": {
       "model_id": "e7d9a44e7948439ba3b8321cdc2b9dc0",
       "version_major": 2,
       "version_minor": 0
      },
      "text/plain": [
       "VBox(children=(Label(value='0.001 MB of 0.001 MB uploaded\\r'), FloatProgress(value=1.0, max=1.0)))"
      ]
     },
     "metadata": {},
     "output_type": "display_data"
    },
    {
     "data": {
      "text/html": [
       "<style>\n",
       "    table.wandb td:nth-child(1) { padding: 0 10px; text-align: left ; width: auto;} td:nth-child(2) {text-align: left ; width: 100%}\n",
       "    .wandb-row { display: flex; flex-direction: row; flex-wrap: wrap; justify-content: flex-start; width: 100% }\n",
       "    .wandb-col { display: flex; flex-direction: column; flex-basis: 100%; flex: 1; padding: 10px; }\n",
       "    </style>\n",
       "<div class=\"wandb-row\"><div class=\"wandb-col\"><h3>Run history:</h3><br/><table class=\"wandb\"><tr><td>loss_train</td><td>█▃▃▂▂▂▁▁▁▁▁▁▁▁▁▁▁▁▁▁▁▁▁▁▁▁▁▁▁▁</td></tr><tr><td>loss_valid</td><td>█▆▄▄▃▁▁▁▁▁▁▁▁▁▁▁▁▁▁▁▁▁▁▁▁▁▁▁▁▁</td></tr><tr><td>metric_train</td><td>▁▇▇▇▇█████████████████████████</td></tr><tr><td>metric_valid</td><td>▁▃▅▆▆███▇█████████████████████</td></tr></table><br/></div><div class=\"wandb-col\"><h3>Run summary:</h3><br/><table class=\"wandb\"><tr><td>loss_train</td><td>0.12697</td></tr><tr><td>loss_valid</td><td>0.19721</td></tr><tr><td>metric_train</td><td>0.86802</td></tr><tr><td>metric_valid</td><td>0.79481</td></tr></table><br/></div></div>"
      ],
      "text/plain": [
       "<IPython.core.display.HTML object>"
      ]
     },
     "metadata": {},
     "output_type": "display_data"
    },
    {
     "data": {
      "text/html": [
       " View run <strong style=\"color:#cdcd00\">unet-efficientnet-encoder</strong> at: <a href='https://wandb.ai/face-estimation/Medical%20Image%20Segmentation/runs/68i9vz3e' target=\"_blank\">https://wandb.ai/face-estimation/Medical%20Image%20Segmentation/runs/68i9vz3e</a><br/>Synced 5 W&B file(s), 0 media file(s), 0 artifact file(s) and 0 other file(s)"
      ],
      "text/plain": [
       "<IPython.core.display.HTML object>"
      ]
     },
     "metadata": {},
     "output_type": "display_data"
    },
    {
     "data": {
      "text/html": [
       "Find logs at: <code>.\\wandb\\run-20240113_212841-68i9vz3e\\logs</code>"
      ],
      "text/plain": [
       "<IPython.core.display.HTML object>"
      ]
     },
     "metadata": {},
     "output_type": "display_data"
    }
   ],
   "source": [
    "wandb.finish()"
   ]
  },
  {
   "cell_type": "code",
   "execution_count": 37,
   "metadata": {},
   "outputs": [],
   "source": [
    "save(save_path, model, optimizer, loss_fn)"
   ]
  },
  {
   "cell_type": "markdown",
   "metadata": {},
   "source": [
    "### Plot learning curves"
   ]
  },
  {
   "cell_type": "code",
   "execution_count": 36,
   "metadata": {},
   "outputs": [
    {
     "name": "stdout",
     "output_type": "stream",
     "text": [
      "\n",
      "Trained 30 epochs\n"
     ]
    },
    {
     "data": {
      "image/png": "[encoded data removed]",
      "text/plain": [
       "<Figure size 640x480 with 1 Axes>"
      ]
     },
     "metadata": {},
     "output_type": "display_data"
    },
    {
     "name": "stdout",
     "output_type": "stream",
     "text": [
      "\n",
      "Trained 30 epochs\n"
     ]
    },
    {
     "data": {
      "image/png": "[encoded data removed]",
      "text/plain": [
       "<Figure size 640x480 with 1 Axes>"
      ]
     },
     "metadata": {},
     "output_type": "display_data"
    }
   ],
   "source": [
    "plot(metric_train_hist, metric_valid_hist, \"Metric\")\n",
    "plot(loss_train_hist, loss_valid_hist, 'Loss')"
   ]
  }
 ],
 "metadata": {
  "kernelspec": {
   "display_name": "Python 3",
   "language": "python",
   "name": "python3"
  },
  "language_info": {
   "codemirror_mode": {
    "name": "ipython",
    "version": 3
   },
   "file_extension": ".py",
   "mimetype": "text/x-python",
   "name": "python",
   "nbconvert_exporter": "python",
   "pygments_lexer": "ipython3",
   "version": "3.11.4"
  }
 },
 "nbformat": 4,
 "nbformat_minor": 2
}
